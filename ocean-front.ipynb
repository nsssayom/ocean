{
 "cells": [
  {
   "cell_type": "code",
   "execution_count": 11,
   "metadata": {},
   "outputs": [
    {
     "name": "stdout",
     "output_type": "stream",
     "text": [
      "<class 'netCDF4._netCDF4.Variable'>\n",
      "int32 time(time)\n",
      "    standard_name: time\n",
      "    long_name: reference time of SST file\n",
      "    units: seconds since 1981-01-01 00:00:00\n",
      "    axis: T\n",
      "    comment: This is the reference time of the SST file. Add sst_dtime to this value to get pixel-by-pixel times.\n",
      "    calendar: gregorian\n",
      "unlimited dimensions: time\n",
      "current shape = (1,)\n",
      "filling on, default _FillValue of -2147483647 used <class 'netCDF4._netCDF4.Variable'>\n",
      "int16 sea_surface_temperature(time, lat, lon)\n",
      "    standard_name: sea_surface_skin_temperature\n",
      "    long_name: NOAA Climate Data Record of sea surface skin temperature\n",
      "    coverage_content_type: physicalMeasurement\n",
      "    grid_mapping: crs\n",
      "    units: kelvin\n",
      "    add_offset: 273.15\n",
      "    scale_factor: 0.01\n",
      "    valid_min: -180\n",
      "    valid_max: 4500\n",
      "    _FillValue: -32768\n",
      "    ancillary_variables: quality_level pathfinder_quality_level l2p_flags\n",
      "    source: AVHRR_GAC-CLASS-L1B-NOAA_19-v1\n",
      "    platform: NOAA-19\n",
      "    comment: Skin temperature of the ocean\n",
      "unlimited dimensions: time\n",
      "current shape = (1, 4320, 8640)\n",
      "filling on\n"
     ]
    }
   ],
   "source": [
    "import netCDF4\n",
    "import matplotlib.pyplot as plt\n",
    "import xarray as xr\n",
    "import pandas as pd\n",
    "\n",
    "nc = netCDF4.Dataset(\"sample_data_2.nc\", \"r\", format=\"NETCDF4\")\n",
    "\n",
    "print(nc.variables.keys())\n",
    "\n",
    "lat = nc.variables[\"lat\"][:]\n",
    "lon = nc.variables[\"lon\"][:]\n",
    "\n",
    "time_var = nc.variables[\"time\"]\n",
    "dtime = netCDF4.num2date(time_var[:], time_var.units)\n",
    "\n",
    "sst = nc.variables[\"sea_surface_temperature\"]\n",
    "\n",
    "print(sst)\n",
    "\n",
    "print(lat)\n",
    "print(lon)\n",
    "print(dtime[0])\n",
    "\n",
    "print(sst[0, 2000, 2000])\n",
    "\n",
    "# loop from 0 to 4320\n",
    "for i in range(2000, 4320):\n",
    "    for j in range(2000, 8640):\n",
    "        print(lat[i], lon[j], sst[0, i, j])\n"
   ]
  }
 ],
 "metadata": {
  "kernelspec": {
   "display_name": "Python 3.10.7 ('env': venv)",
   "language": "python",
   "name": "python3"
  },
  "language_info": {
   "codemirror_mode": {
    "name": "ipython",
    "version": 3
   },
   "file_extension": ".py",
   "mimetype": "text/x-python",
   "name": "python",
   "nbconvert_exporter": "python",
   "pygments_lexer": "ipython3",
   "version": "3.10.7"
  },
  "orig_nbformat": 4,
  "vscode": {
   "interpreter": {
    "hash": "6150d6ea51d2b20ab031323d9c899e52a77e53c002a97c12a272025d09e34eef"
   }
  }
 },
 "nbformat": 4,
 "nbformat_minor": 2
}
